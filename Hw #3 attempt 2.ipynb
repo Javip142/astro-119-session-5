{
 "cells": [
  {
   "cell_type": "code",
   "execution_count": null,
   "id": "13aa4ce1",
   "metadata": {},
   "outputs": [],
   "source": [
    "%matplotlib inline\n",
    "import numpy as np\n",
    "import matplotlib.pyplot as plt"
   ]
  },
  {
   "cell_type": "code",
   "execution_count": null,
   "id": "dc5da7e3",
   "metadata": {},
   "outputs": [],
   "source": [
    "n = 1000.0\n",
    "x =np.arange(0,2*np.pi)\n",
    "y1=5.5*np.cos(2*x) + 5.5\n",
    "y2=0.02*np.exp(x)\n",
    "y3=.25*np.square(x)+0.1*np.sin(10*x)\n",
    "plt.plot(x,y1)  \n",
    "plt.plot(x,y2)  \n",
    "plt.plot(x,y3)  \n",
    "plt.xlim(0,2*np.pi) \n",
    "plt.ylim(-1,10)    \n",
    "plt.xlabel('Time in ASTR 119') \n",
    "plt.ylabel('Measures of Awesomeness')  \n",
    "plt.show() "
   ]
  },
  {
   "cell_type": "code",
   "execution_count": null,
   "id": "cbb3c18c",
   "metadata": {},
   "outputs": [],
   "source": []
  }
 ],
 "metadata": {
  "kernelspec": {
   "display_name": "Python 3 (ipykernel)",
   "language": "python",
   "name": "python3"
  },
  "language_info": {
   "codemirror_mode": {
    "name": "ipython",
    "version": 3
   },
   "file_extension": ".py",
   "mimetype": "text/x-python",
   "name": "python",
   "nbconvert_exporter": "python",
   "pygments_lexer": "ipython3",
   "version": "3.9.7"
  }
 },
 "nbformat": 4,
 "nbformat_minor": 5
}
