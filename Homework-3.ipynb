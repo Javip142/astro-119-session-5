{
 "cells": [
  {
   "cell_type": "code",
   "execution_count": null,
   "id": "ddd6accc",
   "metadata": {},
   "outputs": [],
   "source": [
    "%matplotlib inline\n",
    "import numpy as np\n",
    "import matplotlib.pyplot as plt"
   ]
  },
  {
   "cell_type": "code",
   "execution_count": null,
   "id": "bc587588",
   "metadata": {},
   "outputs": [],
   "source": [
    "x =np.linspace(0,2*np.pi,1000) #linspace suggestion taken from kite.com\n",
    "y1=5.5*np.cos(2*x) + 5.5\n",
    "y2=0.02*np.exp(x)\n",
    "y3=.25*np.square(x)+0.1*np.sin(10*x)\n",
    "plt.plot(x,y1)  #was confused on the different sets of y\n",
    "plt.plot(x,y2)  #but when I made 3 different lines of plots\n",
    "plt.plot(x,y3)  #it worked\n",
    "plt.xlim(0,2*np.pi) #again learned this one from kite.com\n",
    "plt.ylim(-1,10)    #not sure if there is another way\n",
    "plt.xlabel('Time in ASTR 119') #maybe by using subroutines like in slide 5 sesh5\n",
    "plt.ylabel('Measures of Awesomeness') #after hours of struggling \n",
    "plt.show() #it is now complete i think\n"
   ]
  },
  {
   "cell_type": "code",
   "execution_count": null,
   "id": "768b7e88",
   "metadata": {},
   "outputs": [],
   "source": []
  }
 ],
 "metadata": {
  "kernelspec": {
   "display_name": "Python 3 (ipykernel)",
   "language": "python",
   "name": "python3"
  },
  "language_info": {
   "codemirror_mode": {
    "name": "ipython",
    "version": 3
   },
   "file_extension": ".py",
   "mimetype": "text/x-python",
   "name": "python",
   "nbconvert_exporter": "python",
   "pygments_lexer": "ipython3",
   "version": "3.9.7"
  }
 },
 "nbformat": 4,
 "nbformat_minor": 5
}
